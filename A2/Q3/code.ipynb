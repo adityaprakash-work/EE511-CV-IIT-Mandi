{
  "cells": [
    {
      "cell_type": "markdown",
      "metadata": {
        "id": "FJKdOzG_zXeu"
      },
      "source": [
        "# **DEPENDENCIES**"
      ]
    },
    {
      "cell_type": "code",
      "execution_count": 6,
      "metadata": {
        "id": "X1C7KnW_zXew"
      },
      "outputs": [],
      "source": [
        "import numpy as np\n",
        "import cv2\n",
        "\n",
        "import os"
      ]
    },
    {
      "cell_type": "code",
      "source": [
        "from google.colab import drive; drive.mount(\"/content/drive\")"
      ],
      "metadata": {
        "id": "Rl80G8p6MRFv"
      },
      "execution_count": null,
      "outputs": []
    },
    {
      "cell_type": "markdown",
      "source": [
        "# **DATASET**"
      ],
      "metadata": {
        "id": "Kf67cqk0zZFH"
      }
    },
    {
      "cell_type": "code",
      "source": [
        "faces_dataset_path = \"/content/drive/MyDrive/data_assn2_cv/actors/faces\"\n"
      ],
      "metadata": {
        "id": "k6Sjxo5xMOUP"
      },
      "execution_count": 7,
      "outputs": []
    }
  ],
  "metadata": {
    "kernelspec": {
      "display_name": "Python 3",
      "language": "python",
      "name": "python3"
    },
    "language_info": {
      "codemirror_mode": {
        "name": "ipython",
        "version": 3
      },
      "file_extension": ".py",
      "mimetype": "text/x-python",
      "name": "python",
      "nbconvert_exporter": "python",
      "pygments_lexer": "ipython3",
      "version": "3.11.3"
    },
    "colab": {
      "provenance": []
    }
  },
  "nbformat": 4,
  "nbformat_minor": 0
}