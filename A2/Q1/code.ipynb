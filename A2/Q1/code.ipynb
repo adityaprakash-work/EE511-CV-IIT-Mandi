{
 "cells": [
  {
   "cell_type": "markdown",
   "metadata": {},
   "source": [
    "# **DEPENDENCIES**"
   ]
  },
  {
   "cell_type": "code",
   "execution_count": 2,
   "metadata": {},
   "outputs": [],
   "source": [
    "import numpy as np\n",
    "import matplotlib.pyplot as plt\n",
    "\n",
    "import tensorflow as tf"
   ]
  },
  {
   "cell_type": "markdown",
   "metadata": {},
   "source": [
    "# **DATASET**\n",
    "Description: MNIST normalized histogram of pixel values"
   ]
  },
  {
   "cell_type": "code",
   "execution_count": 24,
   "metadata": {},
   "outputs": [],
   "source": [
    "(Xtr, Ytr), (Xts, Yts) = tf.keras.datasets.mnist.load_data()\n",
    "# Using only Xts for SVD\n",
    "Xts = Xts.reshape(Xts.shape[0], -1)\n",
    "bins = np.arange(-0.5, 255.5, 1)\n",
    "# Xtr = np.apply_along_axis(lambda x: np.histogram(x, bins=bins)[0], 1, Xtr)\n",
    "Xts = np.apply_along_axis(lambda x: np.histogram(x, bins=bins)[0], 1, Xts)\n",
    "# Xtr = Xtr / np.linalg.norm(Xtr, axis=1, keepdims=True)\n",
    "Xts = Xts / np.linalg.norm(Xts, axis=1, keepdims=True)"
   ]
  },
  {
   "cell_type": "markdown",
   "metadata": {},
   "source": [
    "# **PROBLEM**\n",
    "Implement SVD from scratch using eigen decomposition on xtr.T @xtr. Use the top 'k' singular vectors to reconstruct the data matrix Xtr_hat. Plot the reconstruction error xtr - Xtr_hat||_F as a function of 'k' for k = 1, 2, ..\n"
   ]
  },
  {
   "cell_type": "code",
   "execution_count": 5,
   "metadata": {},
   "outputs": [],
   "source": [
    "class SVD:\n",
    "    \"\"\"\n",
    "    Reference [1] for the formulation\n",
    "    \"\"\"\n",
    "\n",
    "    def _init_(self):\n",
    "        self.s = None\n",
    "        self.S = None\n",
    "        self.U = None\n",
    "        self.VT = None\n",
    "\n",
    "    @staticmethod\n",
    "    def _power_iteration_eigs(X, num_iter):\n",
    "        # Since power iteration is slow, we'll calculate U or V, whichever is\n",
    "        # smaller. This will greatly speed up the process as the extra eigen-\n",
    "        # values in the bigger covariance matrix are redundant (0). Since we\n",
    "        # also don't need the extra eigen-vectors (corr. to 0 eigen-values),\n",
    "        # we set them to 0 as well, in the SVD formulation:\n",
    "        # SVD:  X_np = U_nn @ S_np @ VT_pp\n",
    "        # The 0 vectors will align with the 0 singular values and will not\n",
    "        # affect the reconstruction of X_np.\n",
    "\n",
    "        n, p = X.shape\n",
    "        max_rank_X = min(n, p)\n",
    "\n",
    "        # Selecting the covariance matrix based on the size of X\n",
    "        if n < p:\n",
    "            cov_mat = X @ X.T / (X.shape[0] - 1)\n",
    "            # Since eigen-vectors of X @ X^T make up U\n",
    "            flag = \"U\"\n",
    "        if n >= p:\n",
    "            cov_mat = X.T @ X / (X.shape[0] - 1)\n",
    "            # Since eigen-vectors of X^T @ X make up V\n",
    "            flag = \"V\"\n",
    "\n",
    "        eig_vals = np.zeros(cov_mat.shape[0])\n",
    "        eig_vecs = np.zeros((cov_mat.shape[0], cov_mat.shape[0]))\n",
    "\n",
    "        # Power iteration\n",
    "        for i in range(max_rank_X):\n",
    "            b_k = np.random.rand(max_rank_X)\n",
    "            for _ in range(num_iter):\n",
    "                b_k1 = cov_mat @ b_k\n",
    "                b_k1_norm = np.linalg.norm(b_k1)\n",
    "                b_k = b_k1 / b_k1_norm\n",
    "            # Rayleigh quotient\n",
    "            eig_val = b_k.T @ cov_mat @ b_k\n",
    "            eig_vals[i] = eig_val\n",
    "            eig_vecs[:, i] = b_k\n",
    "            cov_mat = cov_mat - b_k1_norm * np.outer(b_k, b_k)\n",
    "\n",
    "        idx = np.argsort(eig_vals)[::-1]\n",
    "        eig_vals = eig_vals[idx]\n",
    "        eig_vecs = eig_vecs[:, idx]\n",
    "        return eig_vals, eig_vecs, flag\n",
    "\n",
    "    @staticmethod\n",
    "    def frobenius_distance(X, X_hat):\n",
    "        return np.linalg.norm(X - X_hat, ord=\"fro\")\n",
    "\n",
    "    def fit(self, X, pie_num_iter=100):\n",
    "        # Assuming X is centered\n",
    "        eig_vals, eig_vecs, flag = self._power_iteration_eigs(X, pie_num_iter)\n",
    "        self.s = np.sqrt(eig_vals)\n",
    "        self.S = np.zeros((X.shape[0], X.shape[1]))\n",
    "        self.S[: eig_vals.shape[0], : eig_vals.shape[0]] = np.diag(self.s)\n",
    "        if flag == \"U\":\n",
    "            self.U = eig_vecs\n",
    "            self.VT = np.zeros((X.shape[1], X.shape[1]))\n",
    "            # Formula: VT = S^-1 @ U^T @ X\n",
    "            self.VT[: eig_vals.shape[0], :] = np.diag(1 / self.s) @ self.U.T @ X\n",
    "\n",
    "        if flag == \"V\":\n",
    "            self.VT = eig_vecs.T\n",
    "            self.U = np.zeros((X.shape[0], X.shape[0]))\n",
    "            # Formula: U = X @ VT @ S^-1\n",
    "            self.U[:, : eig_vals.shape[0]] = X @ self.VT.T @ np.diag(1 / self.s)\n",
    "\n",
    "        # Note: U and VT need not be unique, singular values however are.\n",
    "\n",
    "    def approx_data(self, k):\n",
    "        # Computes a reduced rank approximation of the data matrix X\n",
    "        # Note: X.shape = X_hat.shape\n",
    "        X_hat = self.U[:, :k] @ self.S[:k, :k] @ self.VT[:k, :]\n",
    "        return X_hat"
   ]
  },
  {
   "cell_type": "markdown",
   "metadata": {},
   "source": [
    "# **TESTING**\n",
    "1. Plot the reconstruction error xtr - Xtr_hat||_F as a function of 'k' for k = 1, 2, .., 21."
   ]
  },
  {
   "cell_type": "code",
   "execution_count": 25,
   "metadata": {},
   "outputs": [
    {
     "data": {
      "image/png": "[encoded data removed]",
      "text/plain": [
       "<Figure size 640x480 with 1 Axes>"
      ]
     },
     "metadata": {},
     "output_type": "display_data"
    }
   ],
   "source": [
    "svd = SVD()\n",
    "svd.fit(Xts)\n",
    "\n",
    "error = []\n",
    "\n",
    "for k in range(1, 21):\n",
    "    X1_hat = svd.approx_data(k) \n",
    "    error.append(svd.frobenius_distance(Xts, X1_hat))\n",
    "\n",
    "plt.plot(range(1, 21), error)\n",
    "plt.xlabel(\"k\")\n",
    "plt.ylabel(\"Error\")\n",
    "plt.title(\"Error vs k\")\n",
    "plt.show()"
   ]
  },
  {
   "cell_type": "markdown",
   "metadata": {},
   "source": [
    "# **INFERENCES**\n",
    "1. As we increase the number of singular vectors, the reconstruction error decreases.\n",
    "2. The dimension of the data is same i.e (10000, 255) but taking only top 'k' singular vectors, we reduce the rank of the data."
   ]
  },
  {
   "cell_type": "markdown",
   "metadata": {},
   "source": [
    "# **REFERENCES**\n",
    "1. MIT - SVD  \n",
    "   [Singular Value Decomposition (SVD) tutorialBE.400 / 7.548](https://web.mit.edu/be.400/www/SVD/Singular_Value_Decomposition.htm)\n",
    "\n",
    "2. Redundant eigenvalues.  \n",
    "   [Unequal numbers of eigenvalues and eigenvectors in SVD?](https://math.stackexchange.com/questions/1248131/unequal-numbers-of-eigenvalues-and-eigenvectors-in-svd?rq=1)\n",
    "\n",
    "3. Eigenvectors and eigenvalues from $X^{T}X$ to $XX^{T}$ (Done to avoid redundant computation).  \n",
    "   [Mathematics Stack Exchange](https://math.stackexchange.com/questions/1247983/eigenvectors-and-eigenvalues-from-xtx-to-xxt)\n",
    "\n",
    "4. Wiki - Power Iteration.  \n",
    "   [Power Iteration](https://en.wikipedia.org/wiki/Power_iteration)\n"
   ]
  }
 ],
 "metadata": {
  "kernelspec": {
   "display_name": "Python 3",
   "language": "python",
   "name": "python3"
  },
  "language_info": {
   "codemirror_mode": {
    "name": "ipython",
    "version": 3
   },
   "file_extension": ".py",
   "mimetype": "text/x-python",
   "name": "python",
   "nbconvert_exporter": "python",
   "pygments_lexer": "ipython3",
   "version": "3.11.3"
  }
 },
 "nbformat": 4,
 "nbformat_minor": 2
}
