{
  "cells": [
    {
      "cell_type": "markdown",
      "metadata": {
        "id": "3Lg3pFGDLvDx"
      },
      "source": [
        "# **DEPENDENCIES**"
      ]
    },
    {
      "cell_type": "code",
      "execution_count": null,
      "metadata": {
        "id": "tQ4GLicPLvD4"
      },
      "outputs": [],
      "source": [
        "import numpy as np\n",
        "import torch\n",
        "import torch.nn as nn\n",
        "from torchvision import datasets, transforms\n",
        "from torch.utils.data import DataLoader, random_split\n",
        "\n",
        "from tqdm import tqdm\n",
        "\n",
        "import matplotlib.pyplot as plt\n",
        "import seaborn as sns"
      ]
    },
    {
      "cell_type": "code",
      "execution_count": 20,
      "metadata": {
        "id": "-LLv4MMOL56K"
      },
      "outputs": [],
      "source": [
        "device  = torch.device('cuda' if torch.cuda.is_available() else 'cpu')"
      ]
    },
    {
      "cell_type": "markdown",
      "metadata": {
        "id": "LX3wA0PZLvD6"
      },
      "source": [
        "# **DATASET**"
      ]
    },
    {
      "cell_type": "code",
      "execution_count": 41,
      "metadata": {
        "id": "sDX9W0xRLvD6"
      },
      "outputs": [],
      "source": [
        "transform = transforms.Compose([\n",
        "    transforms.ToTensor(),\n",
        "    transforms.Normalize((0.5,), (0.5,))\n",
        "])\n",
        "\n",
        "mnist_dataset = datasets.MNIST(root='./data', train=True, download=True, transform=transform)\n",
        "\n",
        "train_size = int(0.8 * len(mnist_dataset))\n",
        "test_size = len(mnist_dataset) - train_size\n",
        "train_dataset, test_dataset = random_split(mnist_dataset, [train_size, test_size])\n",
        "\n",
        "batch_size = 10000\n",
        "train_loader = DataLoader(train_dataset, batch_size=batch_size, shuffle=True)\n",
        "test_loader = DataLoader(test_dataset, batch_size=batch_size, shuffle=False)\n",
        "\n",
        "Xtr, Ytr = next(iter(train_loader))\n",
        "Xte, Yte = next(iter(test_loader))\n",
        "Xtr = Xtr.view(Xtr.size(0), -1)\n",
        "Xte = Xte.view(Xte.size(0), -1)"
      ]
    },
    {
      "cell_type": "code",
      "execution_count": 42,
      "metadata": {
        "id": "fvECV2OyPyYR"
      },
      "outputs": [],
      "source": [
        "Xtr = Xtr.detach().numpy()\n",
        "Xte = Xte.detach().numpy()\n",
        "Ytr = Ytr.detach().numpy()\n",
        "Yte = Yte.detach().numpy()\n",
        "Ytr = np.eye(10)[Ytr]\n",
        "Yte = np.eye(10)[Yte]"
      ]
    },
    {
      "cell_type": "markdown",
      "metadata": {
        "id": "jZ57xSIkLvD7"
      },
      "source": [
        "#### **Utils**"
      ]
    },
    {
      "cell_type": "code",
      "execution_count": 23,
      "metadata": {
        "id": "siCV1saXLvD8"
      },
      "outputs": [],
      "source": [
        "def plot_history(history, accu=False, title=\"Training vs Validation Loss\"):\n",
        "    plt.figure(figsize=(8, 4))\n",
        "\n",
        "    plt.subplot(1, 2, 1)\n",
        "    sns.set_style(\"darkgrid\")\n",
        "    sns.lineplot(\n",
        "        x=range(1, len(history[\"loss\"]) + 1),\n",
        "        y=history[\"loss\"],\n",
        "        label=\"Training Loss\",\n",
        "    )\n",
        "    sns.lineplot(\n",
        "        x=range(1, len(history[\"val_loss\"]) + 1),\n",
        "        y=history[\"val_loss\"],\n",
        "        label=\"Validation Loss\",\n",
        "    )\n",
        "    plt.xlabel(\"Epochs\")\n",
        "    plt.ylabel(\"Loss\")\n",
        "    plt.legend()\n",
        "\n",
        "    if accu and \"accuracy\" in history and \"val_accuracy\" in history:\n",
        "        plt.subplot(1, 2, 2)\n",
        "        sns.set_style(\"darkgrid\")\n",
        "        sns.lineplot(\n",
        "            x=range(1, len(history[\"accuracy\"]) + 1),\n",
        "            y=history[\"accuracy\"],\n",
        "            label=\"Training Accuracy\",\n",
        "        )\n",
        "        sns.lineplot(\n",
        "            x=range(1, len(history[\"val_accuracy\"]) + 1),\n",
        "            y=history[\"val_accuracy\"],\n",
        "            label=\"Validation Accuracy\",\n",
        "        )\n",
        "        plt.xlabel(\"Epochs\")\n",
        "        plt.ylabel(\"Accuracy\")\n",
        "        plt.legend()\n",
        "\n",
        "    plt.suptitle(title)\n",
        "    plt.show()\n",
        "\n",
        "\n",
        "def plot_images(\n",
        "    original_images, reconstructed_images, title=\"Original vs Reconstructed Images\"\n",
        "):\n",
        "    fig, axes = plt.subplots(2, 10, figsize=(8, 2))\n",
        "    fig.suptitle(title)\n",
        "\n",
        "    for i in range(10):\n",
        "        axes[0, i].imshow(original_images[i].reshape(28, 28), cmap=\"gray\")\n",
        "        axes[0, i].axis(\"off\")\n",
        "        axes[1, i].imshow(reconstructed_images[i].reshape(28, 28), cmap=\"gray\")\n",
        "        axes[1, i].axis(\"off\")\n",
        "\n",
        "    plt.tight_layout()\n",
        "\n",
        "    plt.show()"
      ]
    },
    {
      "cell_type": "markdown",
      "metadata": {
        "id": "7iR9GIfrLvD9"
      },
      "source": [
        "#### **Neural Network (scratch)**"
      ]
    },
    {
      "cell_type": "code",
      "execution_count": 24,
      "metadata": {
        "id": "a2uE8BBPLvD9"
      },
      "outputs": [],
      "source": [
        "class FeedForwardNet:\n",
        "    def __init__(self, inp_units, hid_units, out_units):\n",
        "        self.inp_units = inp_units\n",
        "        self.hid_units = hid_units\n",
        "        self.out_units = out_units\n",
        "\n",
        "        # Parameters\n",
        "        self.W1 = np.random.randn(self.inp_units, self.hid_units)\n",
        "        self.b1 = np.random.randn(self.hid_units)\n",
        "        self.W2 = np.random.randn(self.hid_units, self.out_units)\n",
        "        self.b2 = np.random.randn(self.out_units)\n",
        "\n",
        "    def _sigmoid(self, x):\n",
        "        # Clip x values to prevent overflow\n",
        "        x = np.clip(x, -500, 500)\n",
        "        return 1 / (1 + np.exp(-x))\n",
        "\n",
        "    def _sigmoid_prime(self, x):\n",
        "        return self._sigmoid(x) * (1 - self._sigmoid(x))\n",
        "\n",
        "    def _mse(self, y, y_hat):\n",
        "        return np.square(y - y_hat).mean()\n",
        "\n",
        "    def _mse_prime(self, y, y_hat):\n",
        "        return 2 * (y_hat - y) / y.size\n",
        "\n",
        "    def _accuracy(self, y, y_hat, threshold=0.5):\n",
        "        return np.sum(y == (y_hat > threshold)) / y.size\n",
        "\n",
        "    def _forward_h(self, x):\n",
        "        return self._sigmoid(np.dot(x, self.W1) + self.b1)\n",
        "\n",
        "    def _forward_o(self, x):\n",
        "        return self._sigmoid(np.dot(x, self.W2) + self.b2)\n",
        "\n",
        "    def _forward(self, x):\n",
        "        return self._forward_o(self._forward_h(x))\n",
        "\n",
        "    def _backward_o(self, x, y, y_hat):\n",
        "        dL_dz = self._mse_prime(y, y_hat) * self._sigmoid_prime(y_hat)\n",
        "        dL_dW = np.dot(self._forward_h(x).T, dL_dz)\n",
        "        dL_db = np.sum(dL_dz, axis=0)\n",
        "        return dL_dW, dL_db, dL_dz\n",
        "\n",
        "    def _backward_h(self, x, dL_dz):\n",
        "        dL_dW = np.dot(\n",
        "            x.T, np.dot(dL_dz, self.W2.T) * self._sigmoid_prime(self._forward_h(x))\n",
        "        )\n",
        "        dL_db = np.sum(\n",
        "            np.dot(dL_dz, self.W2.T) * self._sigmoid_prime(self._forward_h(x)),\n",
        "            axis=0,\n",
        "        )\n",
        "        return dL_dW, dL_db\n",
        "\n",
        "    def _backward(self, x, y, y_hat, learning_rate):\n",
        "        dL_dW2, dL_db2, dL_dz2 = self._backward_o(x, y, y_hat)\n",
        "        dL_dW1, dL_db1 = self._backward_h(x, dL_dz2)\n",
        "        self.W1 -= learning_rate * dL_dW1\n",
        "        self.b1 -= learning_rate * dL_db1\n",
        "        self.W2 -= learning_rate * dL_dW2\n",
        "        self.b2 -= learning_rate * dL_db2\n",
        "\n",
        "    def train(self, x, y, x_val, y_val, batch_size=16, epochs=10, learning_rate=1e-3):\n",
        "        history = {\n",
        "            \"loss\": [],\n",
        "            \"val_loss\": [],\n",
        "            \"accuracy\": [],\n",
        "            \"val_accuracy\": [],\n",
        "        }\n",
        "        for epoch in range(epochs):\n",
        "            print(f\"Epoch {epoch + 1}/{epochs}\")\n",
        "            for i in tqdm(range(0, x.shape[0], batch_size)):\n",
        "                x_batch = x[i : i + batch_size]\n",
        "                y_batch = y[i : i + batch_size]\n",
        "                y_hat = self._forward(x_batch)\n",
        "                self._backward(x_batch, y_batch, y_hat, learning_rate)\n",
        "            y_hat = self._forward(x)\n",
        "            y_val_hat = self._forward(x_val)\n",
        "            history[\"loss\"].append(self._mse(y, y_hat))\n",
        "            history[\"val_loss\"].append(self._mse(y_val, y_val_hat))\n",
        "            history[\"accuracy\"].append(self._accuracy(y, y_hat))\n",
        "            history[\"val_accuracy\"].append(self._accuracy(y_val, y_val_hat))\n",
        "        return history"
      ]
    },
    {
      "cell_type": "code",
      "execution_count": 43,
      "metadata": {
        "colab": {
          "base_uri": "https://localhost:8080/",
          "height": 1000
        },
        "id": "EfmGqdWPLvD-",
        "outputId": "dd975b6f-cbd5-43a2-f90b-1f0f023bd5f9"
      },
      "outputs": [
        {
          "output_type": "stream",
          "name": "stdout",
          "text": [
            "Epoch 1/25\n"
          ]
        },
        {
          "output_type": "stream",
          "name": "stderr",
          "text": [
            "100%|██████████| 625/625 [00:03<00:00, 187.84it/s]\n"
          ]
        },
        {
          "output_type": "stream",
          "name": "stdout",
          "text": [
            "Epoch 2/25\n"
          ]
        },
        {
          "output_type": "stream",
          "name": "stderr",
          "text": [
            "100%|██████████| 625/625 [00:01<00:00, 389.97it/s]\n"
          ]
        },
        {
          "output_type": "stream",
          "name": "stdout",
          "text": [
            "Epoch 3/25\n"
          ]
        },
        {
          "output_type": "stream",
          "name": "stderr",
          "text": [
            "100%|██████████| 625/625 [00:01<00:00, 406.09it/s]\n"
          ]
        },
        {
          "output_type": "stream",
          "name": "stdout",
          "text": [
            "Epoch 4/25\n"
          ]
        },
        {
          "output_type": "stream",
          "name": "stderr",
          "text": [
            "100%|██████████| 625/625 [00:01<00:00, 407.83it/s]\n"
          ]
        },
        {
          "output_type": "stream",
          "name": "stdout",
          "text": [
            "Epoch 5/25\n"
          ]
        },
        {
          "output_type": "stream",
          "name": "stderr",
          "text": [
            "100%|██████████| 625/625 [00:01<00:00, 404.47it/s]\n"
          ]
        },
        {
          "output_type": "stream",
          "name": "stdout",
          "text": [
            "Epoch 6/25\n"
          ]
        },
        {
          "output_type": "stream",
          "name": "stderr",
          "text": [
            "100%|██████████| 625/625 [00:01<00:00, 385.96it/s]\n"
          ]
        },
        {
          "output_type": "stream",
          "name": "stdout",
          "text": [
            "Epoch 7/25\n"
          ]
        },
        {
          "output_type": "stream",
          "name": "stderr",
          "text": [
            "100%|██████████| 625/625 [00:02<00:00, 275.37it/s]\n"
          ]
        },
        {
          "output_type": "stream",
          "name": "stdout",
          "text": [
            "Epoch 8/25\n"
          ]
        },
        {
          "output_type": "stream",
          "name": "stderr",
          "text": [
            "100%|██████████| 625/625 [00:03<00:00, 186.63it/s]\n"
          ]
        },
        {
          "output_type": "stream",
          "name": "stdout",
          "text": [
            "Epoch 9/25\n"
          ]
        },
        {
          "output_type": "stream",
          "name": "stderr",
          "text": [
            "100%|██████████| 625/625 [00:01<00:00, 356.75it/s]\n"
          ]
        },
        {
          "output_type": "stream",
          "name": "stdout",
          "text": [
            "Epoch 10/25\n"
          ]
        },
        {
          "output_type": "stream",
          "name": "stderr",
          "text": [
            "100%|██████████| 625/625 [00:03<00:00, 188.16it/s]\n"
          ]
        },
        {
          "output_type": "stream",
          "name": "stdout",
          "text": [
            "Epoch 11/25\n"
          ]
        },
        {
          "output_type": "stream",
          "name": "stderr",
          "text": [
            "100%|██████████| 625/625 [00:01<00:00, 409.86it/s]\n"
          ]
        },
        {
          "output_type": "stream",
          "name": "stdout",
          "text": [
            "Epoch 12/25\n"
          ]
        },
        {
          "output_type": "stream",
          "name": "stderr",
          "text": [
            "100%|██████████| 625/625 [00:01<00:00, 403.25it/s]\n"
          ]
        },
        {
          "output_type": "stream",
          "name": "stdout",
          "text": [
            "Epoch 13/25\n"
          ]
        },
        {
          "output_type": "stream",
          "name": "stderr",
          "text": [
            "100%|██████████| 625/625 [00:02<00:00, 218.98it/s]\n"
          ]
        },
        {
          "output_type": "stream",
          "name": "stdout",
          "text": [
            "Epoch 14/25\n"
          ]
        },
        {
          "output_type": "stream",
          "name": "stderr",
          "text": [
            "100%|██████████| 625/625 [00:03<00:00, 196.49it/s]\n"
          ]
        },
        {
          "output_type": "stream",
          "name": "stdout",
          "text": [
            "Epoch 15/25\n"
          ]
        },
        {
          "output_type": "stream",
          "name": "stderr",
          "text": [
            "100%|██████████| 625/625 [00:01<00:00, 393.10it/s]\n"
          ]
        },
        {
          "output_type": "stream",
          "name": "stdout",
          "text": [
            "Epoch 16/25\n"
          ]
        },
        {
          "output_type": "stream",
          "name": "stderr",
          "text": [
            "100%|██████████| 625/625 [00:01<00:00, 396.59it/s]\n"
          ]
        },
        {
          "output_type": "stream",
          "name": "stdout",
          "text": [
            "Epoch 17/25\n"
          ]
        },
        {
          "output_type": "stream",
          "name": "stderr",
          "text": [
            "100%|██████████| 625/625 [00:01<00:00, 386.83it/s]\n"
          ]
        },
        {
          "output_type": "stream",
          "name": "stdout",
          "text": [
            "Epoch 18/25\n"
          ]
        },
        {
          "output_type": "stream",
          "name": "stderr",
          "text": [
            "100%|██████████| 625/625 [00:01<00:00, 400.56it/s]\n"
          ]
        },
        {
          "output_type": "stream",
          "name": "stdout",
          "text": [
            "Epoch 19/25\n"
          ]
        },
        {
          "output_type": "stream",
          "name": "stderr",
          "text": [
            "100%|██████████| 625/625 [00:01<00:00, 395.38it/s]\n"
          ]
        },
        {
          "output_type": "stream",
          "name": "stdout",
          "text": [
            "Epoch 20/25\n"
          ]
        },
        {
          "output_type": "stream",
          "name": "stderr",
          "text": [
            "100%|██████████| 625/625 [00:02<00:00, 283.77it/s]\n"
          ]
        },
        {
          "output_type": "stream",
          "name": "stdout",
          "text": [
            "Epoch 21/25\n"
          ]
        },
        {
          "output_type": "stream",
          "name": "stderr",
          "text": [
            "100%|██████████| 625/625 [00:03<00:00, 196.54it/s]\n"
          ]
        },
        {
          "output_type": "stream",
          "name": "stdout",
          "text": [
            "Epoch 22/25\n"
          ]
        },
        {
          "output_type": "stream",
          "name": "stderr",
          "text": [
            "100%|██████████| 625/625 [00:01<00:00, 321.55it/s]\n"
          ]
        },
        {
          "output_type": "stream",
          "name": "stdout",
          "text": [
            "Epoch 23/25\n"
          ]
        },
        {
          "output_type": "stream",
          "name": "stderr",
          "text": [
            "100%|██████████| 625/625 [00:01<00:00, 400.40it/s]\n"
          ]
        },
        {
          "output_type": "stream",
          "name": "stdout",
          "text": [
            "Epoch 24/25\n"
          ]
        },
        {
          "output_type": "stream",
          "name": "stderr",
          "text": [
            "100%|██████████| 625/625 [00:01<00:00, 408.98it/s]\n"
          ]
        },
        {
          "output_type": "stream",
          "name": "stdout",
          "text": [
            "Epoch 25/25\n"
          ]
        },
        {
          "output_type": "stream",
          "name": "stderr",
          "text": [
            "100%|██████████| 625/625 [00:01<00:00, 410.38it/s]\n"
          ]
        },
        {
          "output_type": "display_data",
          "data": {
            "text/plain": [
              "<Figure size 800x400 with 2 Axes>"
            ],
            "image/png": "[encoded data removed]"
          },
          "metadata": {}
        }
      ],
      "source": [
        "# Training\n",
        "model = FeedForwardNet(784, 128, 10)\n",
        "history = model.train(Xtr, Ytr, Xte, Yte, epochs=25)\n",
        "\n",
        "# Create a dictionary for models to store best metrics\n",
        "model_metrics = {\n",
        "    \"NN-Scratch\": {\n",
        "        \"loss\": min(history[\"val_loss\"]),\n",
        "        \"accuracy\": max(history[\"val_accuracy\"]),\n",
        "    }\n",
        "}\n",
        "\n",
        "# Plotting\n",
        "plot_history(history, accu=True)"
      ]
    },
    {
      "cell_type": "code",
      "execution_count": 44,
      "metadata": {
        "id": "AtwqCc8NSaOc"
      },
      "outputs": [],
      "source": [
        "Xtr = torch.from_numpy(Xtr).float().to(device)\n",
        "Xte = torch.from_numpy(Xte).float().to(device)\n",
        "Ytr = torch.from_numpy(Ytr).float().to(device)\n",
        "Yte = torch.from_numpy(Yte).float().to(device)"
      ]
    },
    {
      "cell_type": "markdown",
      "metadata": {
        "id": "dJ74XYlqLvEA"
      },
      "source": [
        "#### **Autoencoder**"
      ]
    },
    {
      "cell_type": "code",
      "execution_count": 45,
      "metadata": {
        "id": "Nd6F45rVLvEA"
      },
      "outputs": [],
      "source": [
        "class Autoencoder(nn.Module):\n",
        "    def __init__(self):\n",
        "        super(Autoencoder, self).__init__()\n",
        "\n",
        "        self.encoder = nn.Sequential(\n",
        "            nn.Linear(28 * 28, 128),\n",
        "            nn.Tanh()\n",
        "        )\n",
        "\n",
        "        self.decoder = nn.Sequential(\n",
        "            nn.Linear(128, 28 * 28),\n",
        "        )\n",
        "\n",
        "    def forward(self, x):\n",
        "        x = self.encoder(x)\n",
        "        x = self.decoder(x)\n",
        "        return x"
      ]
    },
    {
      "cell_type": "code",
      "execution_count": 46,
      "metadata": {
        "colab": {
          "base_uri": "https://localhost:8080/",
          "height": 1000
        },
        "id": "aJuMH-6rLvEA",
        "outputId": "a45524fd-cc2d-4559-b400-1c0f2c8ac5a2"
      },
      "outputs": [
        {
          "output_type": "stream",
          "name": "stdout",
          "text": [
            "Epoch 1/25\n"
          ]
        },
        {
          "output_type": "stream",
          "name": "stderr",
          "text": [
            "100%|██████████| 625/625 [00:00<00:00, 1058.60it/s]\n"
          ]
        },
        {
          "output_type": "stream",
          "name": "stdout",
          "text": [
            "Epoch 2/25\n"
          ]
        },
        {
          "output_type": "stream",
          "name": "stderr",
          "text": [
            "100%|██████████| 625/625 [00:00<00:00, 945.60it/s]\n"
          ]
        },
        {
          "output_type": "stream",
          "name": "stdout",
          "text": [
            "Epoch 3/25\n"
          ]
        },
        {
          "output_type": "stream",
          "name": "stderr",
          "text": [
            "100%|██████████| 625/625 [00:00<00:00, 1020.91it/s]\n"
          ]
        },
        {
          "output_type": "stream",
          "name": "stdout",
          "text": [
            "Epoch 4/25\n"
          ]
        },
        {
          "output_type": "stream",
          "name": "stderr",
          "text": [
            "100%|██████████| 625/625 [00:00<00:00, 1038.50it/s]\n"
          ]
        },
        {
          "output_type": "stream",
          "name": "stdout",
          "text": [
            "Epoch 5/25\n"
          ]
        },
        {
          "output_type": "stream",
          "name": "stderr",
          "text": [
            "100%|██████████| 625/625 [00:00<00:00, 1057.48it/s]\n"
          ]
        },
        {
          "output_type": "stream",
          "name": "stdout",
          "text": [
            "Epoch 6/25\n"
          ]
        },
        {
          "output_type": "stream",
          "name": "stderr",
          "text": [
            "100%|██████████| 625/625 [00:00<00:00, 1068.84it/s]\n"
          ]
        },
        {
          "output_type": "stream",
          "name": "stdout",
          "text": [
            "Epoch 7/25\n"
          ]
        },
        {
          "output_type": "stream",
          "name": "stderr",
          "text": [
            "100%|██████████| 625/625 [00:00<00:00, 1055.64it/s]\n"
          ]
        },
        {
          "output_type": "stream",
          "name": "stdout",
          "text": [
            "Epoch 8/25\n"
          ]
        },
        {
          "output_type": "stream",
          "name": "stderr",
          "text": [
            "100%|██████████| 625/625 [00:00<00:00, 947.49it/s]\n"
          ]
        },
        {
          "output_type": "stream",
          "name": "stdout",
          "text": [
            "Epoch 9/25\n"
          ]
        },
        {
          "output_type": "stream",
          "name": "stderr",
          "text": [
            "100%|██████████| 625/625 [00:00<00:00, 894.28it/s]\n"
          ]
        },
        {
          "output_type": "stream",
          "name": "stdout",
          "text": [
            "Epoch 10/25\n"
          ]
        },
        {
          "output_type": "stream",
          "name": "stderr",
          "text": [
            "100%|██████████| 625/625 [00:00<00:00, 938.01it/s]\n"
          ]
        },
        {
          "output_type": "stream",
          "name": "stdout",
          "text": [
            "Epoch 11/25\n"
          ]
        },
        {
          "output_type": "stream",
          "name": "stderr",
          "text": [
            "100%|██████████| 625/625 [00:00<00:00, 910.48it/s]\n"
          ]
        },
        {
          "output_type": "stream",
          "name": "stdout",
          "text": [
            "Epoch 12/25\n"
          ]
        },
        {
          "output_type": "stream",
          "name": "stderr",
          "text": [
            "100%|██████████| 625/625 [00:00<00:00, 905.13it/s]\n"
          ]
        },
        {
          "output_type": "stream",
          "name": "stdout",
          "text": [
            "Epoch 13/25\n"
          ]
        },
        {
          "output_type": "stream",
          "name": "stderr",
          "text": [
            "100%|██████████| 625/625 [00:00<00:00, 975.04it/s] \n"
          ]
        },
        {
          "output_type": "stream",
          "name": "stdout",
          "text": [
            "Epoch 14/25\n"
          ]
        },
        {
          "output_type": "stream",
          "name": "stderr",
          "text": [
            "100%|██████████| 625/625 [00:00<00:00, 1082.96it/s]\n"
          ]
        },
        {
          "output_type": "stream",
          "name": "stdout",
          "text": [
            "Epoch 15/25\n"
          ]
        },
        {
          "output_type": "stream",
          "name": "stderr",
          "text": [
            "100%|██████████| 625/625 [00:00<00:00, 1058.54it/s]\n"
          ]
        },
        {
          "output_type": "stream",
          "name": "stdout",
          "text": [
            "Epoch 16/25\n"
          ]
        },
        {
          "output_type": "stream",
          "name": "stderr",
          "text": [
            "100%|██████████| 625/625 [00:00<00:00, 1048.82it/s]\n"
          ]
        },
        {
          "output_type": "stream",
          "name": "stdout",
          "text": [
            "Epoch 17/25\n"
          ]
        },
        {
          "output_type": "stream",
          "name": "stderr",
          "text": [
            "100%|██████████| 625/625 [00:00<00:00, 1114.06it/s]\n"
          ]
        },
        {
          "output_type": "stream",
          "name": "stdout",
          "text": [
            "Epoch 18/25\n"
          ]
        },
        {
          "output_type": "stream",
          "name": "stderr",
          "text": [
            "100%|██████████| 625/625 [00:00<00:00, 1066.16it/s]\n"
          ]
        },
        {
          "output_type": "stream",
          "name": "stdout",
          "text": [
            "Epoch 19/25\n"
          ]
        },
        {
          "output_type": "stream",
          "name": "stderr",
          "text": [
            "100%|██████████| 625/625 [00:00<00:00, 1071.44it/s]\n"
          ]
        },
        {
          "output_type": "stream",
          "name": "stdout",
          "text": [
            "Epoch 20/25\n"
          ]
        },
        {
          "output_type": "stream",
          "name": "stderr",
          "text": [
            "100%|██████████| 625/625 [00:00<00:00, 1060.08it/s]\n"
          ]
        },
        {
          "output_type": "stream",
          "name": "stdout",
          "text": [
            "Epoch 21/25\n"
          ]
        },
        {
          "output_type": "stream",
          "name": "stderr",
          "text": [
            "100%|██████████| 625/625 [00:00<00:00, 1042.30it/s]\n"
          ]
        },
        {
          "output_type": "stream",
          "name": "stdout",
          "text": [
            "Epoch 22/25\n"
          ]
        },
        {
          "output_type": "stream",
          "name": "stderr",
          "text": [
            "100%|██████████| 625/625 [00:00<00:00, 1098.05it/s]\n"
          ]
        },
        {
          "output_type": "stream",
          "name": "stdout",
          "text": [
            "Epoch 23/25\n"
          ]
        },
        {
          "output_type": "stream",
          "name": "stderr",
          "text": [
            "100%|██████████| 625/625 [00:00<00:00, 1066.18it/s]\n"
          ]
        },
        {
          "output_type": "stream",
          "name": "stdout",
          "text": [
            "Epoch 24/25\n"
          ]
        },
        {
          "output_type": "stream",
          "name": "stderr",
          "text": [
            "100%|██████████| 625/625 [00:00<00:00, 1101.13it/s]\n"
          ]
        },
        {
          "output_type": "stream",
          "name": "stdout",
          "text": [
            "Epoch 25/25\n"
          ]
        },
        {
          "output_type": "stream",
          "name": "stderr",
          "text": [
            "100%|██████████| 625/625 [00:00<00:00, 1070.42it/s]\n"
          ]
        },
        {
          "output_type": "display_data",
          "data": {
            "text/plain": [
              "<Figure size 640x480 with 1 Axes>"
            ],
            "image/png": "[encoded data removed]"
          },
          "metadata": {}
        },
        {
          "output_type": "display_data",
          "data": {
            "text/plain": [
              "<Figure size 800x200 with 20 Axes>"
            ],
            "image/png": "[encoded data removed]"
          },
          "metadata": {}
        }
      ],
      "source": [
        "# Training\n",
        "model_ae = Autoencoder()\n",
        "model_ae = model_ae.to(device)\n",
        "loss = nn.MSELoss()\n",
        "optimizer = torch.optim.SGD(model_ae.parameters(), lr=1e-3)\n",
        "epochs = 25\n",
        "batch_size = 16\n",
        "history = {\n",
        "    \"loss\": [],\n",
        "    \"val_loss\": [],\n",
        "}\n",
        "\n",
        "for epoch in range(epochs):\n",
        "    print(f\"Epoch {epoch + 1}/{epochs}\")\n",
        "    for i in tqdm(range(0, Xtr.size(0), batch_size)):\n",
        "        x_batch = Xtr[i : i + batch_size]\n",
        "        y_batch = Xtr[i : i + batch_size]\n",
        "        x_enc = model_ae.encoder(x_batch)\n",
        "        x_rec = model_ae.decoder(x_enc)\n",
        "        loss_val = loss(x_rec, y_batch)\n",
        "        optimizer.zero_grad()\n",
        "        loss_val.backward()\n",
        "        optimizer.step()\n",
        "\n",
        "    x_enc = model_ae.encoder(Xtr)\n",
        "    x_rec = model_ae.decoder(x_enc)\n",
        "    x_val_enc = model_ae.encoder(Xte)\n",
        "    x_val_rec = model_ae.decoder(x_val_enc)\n",
        "    history[\"loss\"].append(loss(x_rec, Xtr).item())\n",
        "    history[\"val_loss\"].append(loss(x_val_rec, Xte).item())\n",
        "\n",
        "# Plotting\n",
        "plt.plot(history[\"loss\"], label=\"Training Loss\")\n",
        "plt.plot(history[\"val_loss\"], label=\"Validation Loss\")\n",
        "plt.xlabel(\"Epoch\")\n",
        "plt.ylabel(\"Loss\")\n",
        "plt.legend()\n",
        "plt.show()\n",
        "\n",
        "# Plotting\n",
        "x_enc = model_ae.encoder(Xte)\n",
        "x_rec = model_ae.decoder(x_enc).detach().cpu().numpy()\n",
        "plot_images(Xte.detach().cpu().numpy(), x_rec)"
      ]
    },
    {
      "cell_type": "markdown",
      "metadata": {
        "id": "Sew4s447LvEB"
      },
      "source": [
        "#### **MLP with Sigmoid, MSE**"
      ]
    },
    {
      "cell_type": "code",
      "execution_count": 29,
      "metadata": {
        "id": "sCCJh_5-LvEB"
      },
      "outputs": [],
      "source": [
        "class MultiLayerPerceptron3(nn.Module):\n",
        "    def __init__(self):\n",
        "        super(MultiLayerPerceptron3, self).__init__()\n",
        "        self.h = nn.Sequential(\n",
        "            nn.Linear(28 * 28, 128),\n",
        "            nn.Sigmoid(),\n",
        "        )\n",
        "        self.o = nn.Sequential(\n",
        "            nn.Linear(128, 10),\n",
        "            nn.Sigmoid(),\n",
        "        )\n",
        "\n",
        "    def forward(self, x):\n",
        "        x = self.h(x)\n",
        "        x = self.o(x)\n",
        "        return x"
      ]
    },
    {
      "cell_type": "code",
      "execution_count": 47,
      "metadata": {
        "colab": {
          "base_uri": "https://localhost:8080/",
          "height": 1000
        },
        "id": "yDbY4KLGLvEB",
        "outputId": "9236b48a-da2b-41f4-ef8e-b7f3a288f0a9"
      },
      "outputs": [
        {
          "output_type": "stream",
          "name": "stdout",
          "text": [
            "Epoch 1/25\n"
          ]
        },
        {
          "output_type": "stream",
          "name": "stderr",
          "text": [
            "100%|██████████| 625/625 [00:00<00:00, 1034.73it/s]\n"
          ]
        },
        {
          "output_type": "stream",
          "name": "stdout",
          "text": [
            "Epoch 2/25\n"
          ]
        },
        {
          "output_type": "stream",
          "name": "stderr",
          "text": [
            "100%|██████████| 625/625 [00:00<00:00, 1028.47it/s]\n"
          ]
        },
        {
          "output_type": "stream",
          "name": "stdout",
          "text": [
            "Epoch 3/25\n"
          ]
        },
        {
          "output_type": "stream",
          "name": "stderr",
          "text": [
            "100%|██████████| 625/625 [00:00<00:00, 1044.29it/s]\n"
          ]
        },
        {
          "output_type": "stream",
          "name": "stdout",
          "text": [
            "Epoch 4/25\n"
          ]
        },
        {
          "output_type": "stream",
          "name": "stderr",
          "text": [
            "100%|██████████| 625/625 [00:00<00:00, 1003.97it/s]\n"
          ]
        },
        {
          "output_type": "stream",
          "name": "stdout",
          "text": [
            "Epoch 5/25\n"
          ]
        },
        {
          "output_type": "stream",
          "name": "stderr",
          "text": [
            "100%|██████████| 625/625 [00:00<00:00, 1030.79it/s]\n"
          ]
        },
        {
          "output_type": "stream",
          "name": "stdout",
          "text": [
            "Epoch 6/25\n"
          ]
        },
        {
          "output_type": "stream",
          "name": "stderr",
          "text": [
            "100%|██████████| 625/625 [00:00<00:00, 991.06it/s] \n"
          ]
        },
        {
          "output_type": "stream",
          "name": "stdout",
          "text": [
            "Epoch 7/25\n"
          ]
        },
        {
          "output_type": "stream",
          "name": "stderr",
          "text": [
            "100%|██████████| 625/625 [00:00<00:00, 1012.31it/s]\n"
          ]
        },
        {
          "output_type": "stream",
          "name": "stdout",
          "text": [
            "Epoch 8/25\n"
          ]
        },
        {
          "output_type": "stream",
          "name": "stderr",
          "text": [
            "100%|██████████| 625/625 [00:00<00:00, 1037.76it/s]\n"
          ]
        },
        {
          "output_type": "stream",
          "name": "stdout",
          "text": [
            "Epoch 9/25\n"
          ]
        },
        {
          "output_type": "stream",
          "name": "stderr",
          "text": [
            "100%|██████████| 625/625 [00:00<00:00, 984.94it/s] \n"
          ]
        },
        {
          "output_type": "stream",
          "name": "stdout",
          "text": [
            "Epoch 10/25\n"
          ]
        },
        {
          "output_type": "stream",
          "name": "stderr",
          "text": [
            "100%|██████████| 625/625 [00:00<00:00, 1025.97it/s]\n"
          ]
        },
        {
          "output_type": "stream",
          "name": "stdout",
          "text": [
            "Epoch 11/25\n"
          ]
        },
        {
          "output_type": "stream",
          "name": "stderr",
          "text": [
            "100%|██████████| 625/625 [00:00<00:00, 1017.00it/s]\n"
          ]
        },
        {
          "output_type": "stream",
          "name": "stdout",
          "text": [
            "Epoch 12/25\n"
          ]
        },
        {
          "output_type": "stream",
          "name": "stderr",
          "text": [
            "100%|██████████| 625/625 [00:00<00:00, 885.01it/s]\n"
          ]
        },
        {
          "output_type": "stream",
          "name": "stdout",
          "text": [
            "Epoch 13/25\n"
          ]
        },
        {
          "output_type": "stream",
          "name": "stderr",
          "text": [
            "100%|██████████| 625/625 [00:00<00:00, 830.37it/s]\n"
          ]
        },
        {
          "output_type": "stream",
          "name": "stdout",
          "text": [
            "Epoch 14/25\n"
          ]
        },
        {
          "output_type": "stream",
          "name": "stderr",
          "text": [
            "100%|██████████| 625/625 [00:00<00:00, 837.92it/s]\n"
          ]
        },
        {
          "output_type": "stream",
          "name": "stdout",
          "text": [
            "Epoch 15/25\n"
          ]
        },
        {
          "output_type": "stream",
          "name": "stderr",
          "text": [
            "100%|██████████| 625/625 [00:00<00:00, 895.62it/s]\n"
          ]
        },
        {
          "output_type": "stream",
          "name": "stdout",
          "text": [
            "Epoch 16/25\n"
          ]
        },
        {
          "output_type": "stream",
          "name": "stderr",
          "text": [
            "100%|██████████| 625/625 [00:00<00:00, 845.56it/s]\n"
          ]
        },
        {
          "output_type": "stream",
          "name": "stdout",
          "text": [
            "Epoch 17/25\n"
          ]
        },
        {
          "output_type": "stream",
          "name": "stderr",
          "text": [
            "100%|██████████| 625/625 [00:00<00:00, 1012.23it/s]\n"
          ]
        },
        {
          "output_type": "stream",
          "name": "stdout",
          "text": [
            "Epoch 18/25\n"
          ]
        },
        {
          "output_type": "stream",
          "name": "stderr",
          "text": [
            "100%|██████████| 625/625 [00:00<00:00, 1023.79it/s]\n"
          ]
        },
        {
          "output_type": "stream",
          "name": "stdout",
          "text": [
            "Epoch 19/25\n"
          ]
        },
        {
          "output_type": "stream",
          "name": "stderr",
          "text": [
            "100%|██████████| 625/625 [00:00<00:00, 1022.97it/s]\n"
          ]
        },
        {
          "output_type": "stream",
          "name": "stdout",
          "text": [
            "Epoch 20/25\n"
          ]
        },
        {
          "output_type": "stream",
          "name": "stderr",
          "text": [
            "100%|██████████| 625/625 [00:00<00:00, 1049.89it/s]\n"
          ]
        },
        {
          "output_type": "stream",
          "name": "stdout",
          "text": [
            "Epoch 21/25\n"
          ]
        },
        {
          "output_type": "stream",
          "name": "stderr",
          "text": [
            "100%|██████████| 625/625 [00:00<00:00, 1034.61it/s]\n"
          ]
        },
        {
          "output_type": "stream",
          "name": "stdout",
          "text": [
            "Epoch 22/25\n"
          ]
        },
        {
          "output_type": "stream",
          "name": "stderr",
          "text": [
            "100%|██████████| 625/625 [00:00<00:00, 1033.76it/s]\n"
          ]
        },
        {
          "output_type": "stream",
          "name": "stdout",
          "text": [
            "Epoch 23/25\n"
          ]
        },
        {
          "output_type": "stream",
          "name": "stderr",
          "text": [
            "100%|██████████| 625/625 [00:00<00:00, 1047.18it/s]\n"
          ]
        },
        {
          "output_type": "stream",
          "name": "stdout",
          "text": [
            "Epoch 24/25\n"
          ]
        },
        {
          "output_type": "stream",
          "name": "stderr",
          "text": [
            "100%|██████████| 625/625 [00:00<00:00, 1019.69it/s]\n"
          ]
        },
        {
          "output_type": "stream",
          "name": "stdout",
          "text": [
            "Epoch 25/25\n"
          ]
        },
        {
          "output_type": "stream",
          "name": "stderr",
          "text": [
            "100%|██████████| 625/625 [00:00<00:00, 1025.56it/s]\n"
          ]
        },
        {
          "output_type": "display_data",
          "data": {
            "text/plain": [
              "<Figure size 800x400 with 2 Axes>"
            ],
            "image/png": "[encoded data removed]"
          },
          "metadata": {}
        }
      ],
      "source": [
        "# Training\n",
        "model_3 = MultiLayerPerceptron3()\n",
        "model_3 = model_3.to(device)\n",
        "loss = nn.MSELoss()\n",
        "optimizer = torch.optim.SGD(model_3.parameters(), lr=1e-3)\n",
        "epochs = 25\n",
        "batch_size = 16\n",
        "history = {\n",
        "    \"loss\": [],\n",
        "    \"val_loss\": [],\n",
        "    \"accuracy\": [],\n",
        "    \"val_accuracy\": [],\n",
        "}\n",
        "\n",
        "for epoch in range(epochs):\n",
        "    print(f\"Epoch {epoch + 1}/{epochs}\")\n",
        "    for i in tqdm(range(0, Xtr.size(0), batch_size)):\n",
        "        x_batch = Xtr[i : i + batch_size]\n",
        "        y_batch = Ytr[i : i + batch_size]\n",
        "        y_hat = model_3.h(x_batch)\n",
        "        y_hat = model_3.o(y_hat)\n",
        "        loss_val = loss(y_hat, y_batch)\n",
        "        optimizer.zero_grad()\n",
        "        loss_val.backward()\n",
        "        optimizer.step()\n",
        "\n",
        "    y_hat = model_3.h(Xtr)\n",
        "    y_hat = model_3.o(y_hat)\n",
        "    y_hat_val = model_3.h(Xte)\n",
        "    y_hat_val = model_3.o(y_hat_val)\n",
        "    history[\"loss\"].append(loss(y_hat, Ytr).item())\n",
        "    history[\"val_loss\"].append(loss(y_hat_val, Yte).item())\n",
        "    history[\"accuracy\"].append(\n",
        "        torch.sum(Ytr == (y_hat > 0.5)).item() / Ytr.size(0)\n",
        "    )\n",
        "    history[\"val_accuracy\"].append(\n",
        "        torch.sum(Yte == (y_hat_val > 0.5)).item() / Yte.size(0)\n",
        "    )\n",
        "\n",
        "# Update model metrics\n",
        "model_metrics[\"MLP-3\"] = {\n",
        "    \"loss\": min(history[\"val_loss\"]),\n",
        "    \"accuracy\": max(history[\"val_accuracy\"]),\n",
        "}\n",
        "# Plotting\n",
        "plot_history(history, accu=True)"
      ]
    },
    {
      "cell_type": "code",
      "execution_count": 48,
      "metadata": {
        "id": "RN1nj6lJLvEC"
      },
      "outputs": [],
      "source": [
        "class MultiLayerPerceptron4(nn.Module):\n",
        "    def __init__(self):\n",
        "        super(MultiLayerPerceptron4, self).__init__()\n",
        "        self.h = model_ae.encoder\n",
        "        self.h[0].weight.requires_grad = True\n",
        "        self.o = nn.Sequential(\n",
        "            nn.Linear(128, 10),\n",
        "            nn.Sigmoid(),\n",
        "        )\n",
        "\n",
        "    def forward(self, x):\n",
        "        x = self.h(x)\n",
        "        x = self.o(x)\n",
        "        return x"
      ]
    },
    {
      "cell_type": "code",
      "execution_count": 49,
      "metadata": {
        "colab": {
          "base_uri": "https://localhost:8080/",
          "height": 1000
        },
        "id": "_eQ0GDpJLvEC",
        "outputId": "ad00e1ab-b0c1-4a95-9c26-5c6f9f742a8b"
      },
      "outputs": [
        {
          "output_type": "stream",
          "name": "stdout",
          "text": [
            "Epoch 1/25\n"
          ]
        },
        {
          "output_type": "stream",
          "name": "stderr",
          "text": [
            "100%|██████████| 625/625 [00:00<00:00, 856.93it/s]\n"
          ]
        },
        {
          "output_type": "stream",
          "name": "stdout",
          "text": [
            "Epoch 2/25\n"
          ]
        },
        {
          "output_type": "stream",
          "name": "stderr",
          "text": [
            "100%|██████████| 625/625 [00:00<00:00, 891.49it/s]\n"
          ]
        },
        {
          "output_type": "stream",
          "name": "stdout",
          "text": [
            "Epoch 3/25\n"
          ]
        },
        {
          "output_type": "stream",
          "name": "stderr",
          "text": [
            "100%|██████████| 625/625 [00:00<00:00, 888.79it/s]\n"
          ]
        },
        {
          "output_type": "stream",
          "name": "stdout",
          "text": [
            "Epoch 4/25\n"
          ]
        },
        {
          "output_type": "stream",
          "name": "stderr",
          "text": [
            "100%|██████████| 625/625 [00:00<00:00, 843.98it/s]\n"
          ]
        },
        {
          "output_type": "stream",
          "name": "stdout",
          "text": [
            "Epoch 5/25\n"
          ]
        },
        {
          "output_type": "stream",
          "name": "stderr",
          "text": [
            "100%|██████████| 625/625 [00:00<00:00, 894.57it/s]\n"
          ]
        },
        {
          "output_type": "stream",
          "name": "stdout",
          "text": [
            "Epoch 6/25\n"
          ]
        },
        {
          "output_type": "stream",
          "name": "stderr",
          "text": [
            "100%|██████████| 625/625 [00:00<00:00, 985.97it/s]\n"
          ]
        },
        {
          "output_type": "stream",
          "name": "stdout",
          "text": [
            "Epoch 7/25\n"
          ]
        },
        {
          "output_type": "stream",
          "name": "stderr",
          "text": [
            "100%|██████████| 625/625 [00:00<00:00, 961.06it/s]\n"
          ]
        },
        {
          "output_type": "stream",
          "name": "stdout",
          "text": [
            "Epoch 8/25\n"
          ]
        },
        {
          "output_type": "stream",
          "name": "stderr",
          "text": [
            "100%|██████████| 625/625 [00:00<00:00, 1043.01it/s]\n"
          ]
        },
        {
          "output_type": "stream",
          "name": "stdout",
          "text": [
            "Epoch 9/25\n"
          ]
        },
        {
          "output_type": "stream",
          "name": "stderr",
          "text": [
            "100%|██████████| 625/625 [00:00<00:00, 1030.90it/s]\n"
          ]
        },
        {
          "output_type": "stream",
          "name": "stdout",
          "text": [
            "Epoch 10/25\n"
          ]
        },
        {
          "output_type": "stream",
          "name": "stderr",
          "text": [
            "100%|██████████| 625/625 [00:00<00:00, 991.50it/s]\n"
          ]
        },
        {
          "output_type": "stream",
          "name": "stdout",
          "text": [
            "Epoch 11/25\n"
          ]
        },
        {
          "output_type": "stream",
          "name": "stderr",
          "text": [
            "100%|██████████| 625/625 [00:00<00:00, 1017.69it/s]\n"
          ]
        },
        {
          "output_type": "stream",
          "name": "stdout",
          "text": [
            "Epoch 12/25\n"
          ]
        },
        {
          "output_type": "stream",
          "name": "stderr",
          "text": [
            "100%|██████████| 625/625 [00:00<00:00, 971.91it/s]\n"
          ]
        },
        {
          "output_type": "stream",
          "name": "stdout",
          "text": [
            "Epoch 13/25\n"
          ]
        },
        {
          "output_type": "stream",
          "name": "stderr",
          "text": [
            "100%|██████████| 625/625 [00:00<00:00, 992.79it/s]\n"
          ]
        },
        {
          "output_type": "stream",
          "name": "stdout",
          "text": [
            "Epoch 14/25\n"
          ]
        },
        {
          "output_type": "stream",
          "name": "stderr",
          "text": [
            "100%|██████████| 625/625 [00:00<00:00, 1008.24it/s]\n"
          ]
        },
        {
          "output_type": "stream",
          "name": "stdout",
          "text": [
            "Epoch 15/25\n"
          ]
        },
        {
          "output_type": "stream",
          "name": "stderr",
          "text": [
            "100%|██████████| 625/625 [00:00<00:00, 983.19it/s]\n"
          ]
        },
        {
          "output_type": "stream",
          "name": "stdout",
          "text": [
            "Epoch 16/25\n"
          ]
        },
        {
          "output_type": "stream",
          "name": "stderr",
          "text": [
            "100%|██████████| 625/625 [00:00<00:00, 1011.44it/s]\n"
          ]
        },
        {
          "output_type": "stream",
          "name": "stdout",
          "text": [
            "Epoch 17/25\n"
          ]
        },
        {
          "output_type": "stream",
          "name": "stderr",
          "text": [
            "100%|██████████| 625/625 [00:00<00:00, 1015.95it/s]\n"
          ]
        },
        {
          "output_type": "stream",
          "name": "stdout",
          "text": [
            "Epoch 18/25\n"
          ]
        },
        {
          "output_type": "stream",
          "name": "stderr",
          "text": [
            "100%|██████████| 625/625 [00:00<00:00, 996.98it/s]\n"
          ]
        },
        {
          "output_type": "stream",
          "name": "stdout",
          "text": [
            "Epoch 19/25\n"
          ]
        },
        {
          "output_type": "stream",
          "name": "stderr",
          "text": [
            "100%|██████████| 625/625 [00:00<00:00, 999.03it/s]\n"
          ]
        },
        {
          "output_type": "stream",
          "name": "stdout",
          "text": [
            "Epoch 20/25\n"
          ]
        },
        {
          "output_type": "stream",
          "name": "stderr",
          "text": [
            "100%|██████████| 625/625 [00:00<00:00, 990.08it/s] \n"
          ]
        },
        {
          "output_type": "stream",
          "name": "stdout",
          "text": [
            "Epoch 21/25\n"
          ]
        },
        {
          "output_type": "stream",
          "name": "stderr",
          "text": [
            "100%|██████████| 625/625 [00:00<00:00, 896.70it/s]\n"
          ]
        },
        {
          "output_type": "stream",
          "name": "stdout",
          "text": [
            "Epoch 22/25\n"
          ]
        },
        {
          "output_type": "stream",
          "name": "stderr",
          "text": [
            "100%|██████████| 625/625 [00:00<00:00, 869.49it/s]\n"
          ]
        },
        {
          "output_type": "stream",
          "name": "stdout",
          "text": [
            "Epoch 23/25\n"
          ]
        },
        {
          "output_type": "stream",
          "name": "stderr",
          "text": [
            "100%|██████████| 625/625 [00:00<00:00, 844.01it/s]\n"
          ]
        },
        {
          "output_type": "stream",
          "name": "stdout",
          "text": [
            "Epoch 24/25\n"
          ]
        },
        {
          "output_type": "stream",
          "name": "stderr",
          "text": [
            "100%|██████████| 625/625 [00:00<00:00, 880.99it/s]\n"
          ]
        },
        {
          "output_type": "stream",
          "name": "stdout",
          "text": [
            "Epoch 25/25\n"
          ]
        },
        {
          "output_type": "stream",
          "name": "stderr",
          "text": [
            "100%|██████████| 625/625 [00:00<00:00, 830.16it/s]\n"
          ]
        },
        {
          "output_type": "display_data",
          "data": {
            "text/plain": [
              "<Figure size 800x400 with 2 Axes>"
            ],
            "image/png": "[encoded data removed]"
          },
          "metadata": {}
        }
      ],
      "source": [
        "# Training\n",
        "model_4 = MultiLayerPerceptron4()\n",
        "model_4 = model_4.to(device)\n",
        "loss = nn.MSELoss()\n",
        "optimizer = torch.optim.SGD(model_4.parameters(), lr=1e-3)\n",
        "epochs = 25\n",
        "batch_size = 16\n",
        "history = {\n",
        "    \"loss\": [],\n",
        "    \"val_loss\": [],\n",
        "    \"accuracy\": [],\n",
        "    \"val_accuracy\": [],\n",
        "}\n",
        "\n",
        "for epoch in range(epochs):\n",
        "    print(f\"Epoch {epoch + 1}/{epochs}\")\n",
        "    for i in tqdm(range(0, Xtr.size(0), batch_size)):\n",
        "        x_batch = Xtr[i : i + batch_size]\n",
        "        y_batch = Ytr[i : i + batch_size]\n",
        "        y_hat = model_4.h(x_batch)\n",
        "        y_hat = model_4.o(y_hat)\n",
        "        loss_val = loss(y_hat, y_batch)\n",
        "        optimizer.zero_grad()\n",
        "        loss_val.backward()\n",
        "        optimizer.step()\n",
        "\n",
        "    y_hat = model_4.h(Xtr)\n",
        "    y_hat = model_4.o(y_hat)\n",
        "    y_hat_val = model_4.h(Xte)\n",
        "    y_hat_val = model_4.o(y_hat_val)\n",
        "    history[\"loss\"].append(loss(y_hat, Ytr).item())\n",
        "    history[\"val_loss\"].append(loss(y_hat_val, Yte).item())\n",
        "    history[\"accuracy\"].append(\n",
        "        torch.sum(Ytr == (y_hat > 0.5)).item() / Ytr.size(0)\n",
        "    )\n",
        "    history[\"val_accuracy\"].append(\n",
        "        torch.sum(Yte == (y_hat_val > 0.5)).item() / Yte.size(0)\n",
        "    )\n",
        "\n",
        "# Update model metrics\n",
        "model_metrics[\"MLP-4\"] = {\n",
        "    \"loss\": min(history[\"val_loss\"]),\n",
        "    \"accuracy\": max(history[\"val_accuracy\"]),\n",
        "}\n",
        "\n",
        "# Plotting\n",
        "plot_history(history, accu=True)"
      ]
    },
    {
      "cell_type": "markdown",
      "metadata": {
        "id": "lB0hVyEzLvEC"
      },
      "source": [
        "#### **LeNet**"
      ]
    },
    {
      "cell_type": "code",
      "execution_count": 33,
      "metadata": {
        "id": "E5kq_WBxLvEC"
      },
      "outputs": [],
      "source": [
        "class LeNet5(nn.Module):\n",
        "    def __init__(self, num_classes):\n",
        "        super(LeNet5, self).__init__()\n",
        "        self.layer1 = nn.Sequential(\n",
        "            nn.Conv2d(1, 6, kernel_size=5, stride=1, padding=0),\n",
        "            nn.BatchNorm2d(6),\n",
        "            nn.ReLU(),\n",
        "            nn.MaxPool2d(kernel_size = 2, stride = 2))\n",
        "        self.layer2 = nn.Sequential(\n",
        "            nn.Conv2d(6, 16, kernel_size=5, stride=1, padding=0),\n",
        "            nn.BatchNorm2d(16),\n",
        "            nn.ReLU(),\n",
        "            nn.MaxPool2d(kernel_size = 2, stride = 2))\n",
        "        self.fc = nn.Linear(256, 120)\n",
        "        self.relu = nn.ReLU()\n",
        "        self.fc1 = nn.Linear(120, 84)\n",
        "        self.relu1 = nn.ReLU()\n",
        "        self.fc2 = nn.Linear(84, num_classes)\n",
        "\n",
        "    def forward(self, x):\n",
        "        x = x.reshape(-1, 1, 28, 28)\n",
        "        out = self.layer1(x)\n",
        "        out = self.layer2(out)\n",
        "        out = out.reshape(out.size(0), -1)\n",
        "        out = self.fc(out)\n",
        "        out = self.relu(out)\n",
        "        out = self.fc1(out)\n",
        "        out = self.relu1(out)\n",
        "        out = self.fc2(out)\n",
        "        return out"
      ]
    },
    {
      "cell_type": "code",
      "execution_count": 50,
      "metadata": {
        "colab": {
          "base_uri": "https://localhost:8080/",
          "height": 1000
        },
        "id": "kGqBTym9LvEC",
        "outputId": "853e8a24-3909-477b-874c-0520365abd0a"
      },
      "outputs": [
        {
          "output_type": "stream",
          "name": "stdout",
          "text": [
            "Epoch 1/25\n"
          ]
        },
        {
          "output_type": "stream",
          "name": "stderr",
          "text": [
            "100%|██████████| 625/625 [00:01<00:00, 434.15it/s]\n"
          ]
        },
        {
          "output_type": "stream",
          "name": "stdout",
          "text": [
            "Epoch 2/25\n"
          ]
        },
        {
          "output_type": "stream",
          "name": "stderr",
          "text": [
            "100%|██████████| 625/625 [00:01<00:00, 380.17it/s]\n"
          ]
        },
        {
          "output_type": "stream",
          "name": "stdout",
          "text": [
            "Epoch 3/25\n"
          ]
        },
        {
          "output_type": "stream",
          "name": "stderr",
          "text": [
            "100%|██████████| 625/625 [00:01<00:00, 413.55it/s]\n"
          ]
        },
        {
          "output_type": "stream",
          "name": "stdout",
          "text": [
            "Epoch 4/25\n"
          ]
        },
        {
          "output_type": "stream",
          "name": "stderr",
          "text": [
            "100%|██████████| 625/625 [00:01<00:00, 475.02it/s]\n"
          ]
        },
        {
          "output_type": "stream",
          "name": "stdout",
          "text": [
            "Epoch 5/25\n"
          ]
        },
        {
          "output_type": "stream",
          "name": "stderr",
          "text": [
            "100%|██████████| 625/625 [00:01<00:00, 487.76it/s]\n"
          ]
        },
        {
          "output_type": "stream",
          "name": "stdout",
          "text": [
            "Epoch 6/25\n"
          ]
        },
        {
          "output_type": "stream",
          "name": "stderr",
          "text": [
            "100%|██████████| 625/625 [00:01<00:00, 475.74it/s]\n"
          ]
        },
        {
          "output_type": "stream",
          "name": "stdout",
          "text": [
            "Epoch 7/25\n"
          ]
        },
        {
          "output_type": "stream",
          "name": "stderr",
          "text": [
            "100%|██████████| 625/625 [00:01<00:00, 488.56it/s]\n"
          ]
        },
        {
          "output_type": "stream",
          "name": "stdout",
          "text": [
            "Epoch 8/25\n"
          ]
        },
        {
          "output_type": "stream",
          "name": "stderr",
          "text": [
            "100%|██████████| 625/625 [00:01<00:00, 477.86it/s]\n"
          ]
        },
        {
          "output_type": "stream",
          "name": "stdout",
          "text": [
            "Epoch 9/25\n"
          ]
        },
        {
          "output_type": "stream",
          "name": "stderr",
          "text": [
            "100%|██████████| 625/625 [00:01<00:00, 477.09it/s]\n"
          ]
        },
        {
          "output_type": "stream",
          "name": "stdout",
          "text": [
            "Epoch 10/25\n"
          ]
        },
        {
          "output_type": "stream",
          "name": "stderr",
          "text": [
            "100%|██████████| 625/625 [00:01<00:00, 475.12it/s]\n"
          ]
        },
        {
          "output_type": "stream",
          "name": "stdout",
          "text": [
            "Epoch 11/25\n"
          ]
        },
        {
          "output_type": "stream",
          "name": "stderr",
          "text": [
            "100%|██████████| 625/625 [00:01<00:00, 386.33it/s]\n"
          ]
        },
        {
          "output_type": "stream",
          "name": "stdout",
          "text": [
            "Epoch 12/25\n"
          ]
        },
        {
          "output_type": "stream",
          "name": "stderr",
          "text": [
            "100%|██████████| 625/625 [00:01<00:00, 386.46it/s]\n"
          ]
        },
        {
          "output_type": "stream",
          "name": "stdout",
          "text": [
            "Epoch 13/25\n"
          ]
        },
        {
          "output_type": "stream",
          "name": "stderr",
          "text": [
            "100%|██████████| 625/625 [00:01<00:00, 492.05it/s]\n"
          ]
        },
        {
          "output_type": "stream",
          "name": "stdout",
          "text": [
            "Epoch 14/25\n"
          ]
        },
        {
          "output_type": "stream",
          "name": "stderr",
          "text": [
            "100%|██████████| 625/625 [00:01<00:00, 481.20it/s]\n"
          ]
        },
        {
          "output_type": "stream",
          "name": "stdout",
          "text": [
            "Epoch 15/25\n"
          ]
        },
        {
          "output_type": "stream",
          "name": "stderr",
          "text": [
            "100%|██████████| 625/625 [00:01<00:00, 474.82it/s]\n"
          ]
        },
        {
          "output_type": "stream",
          "name": "stdout",
          "text": [
            "Epoch 16/25\n"
          ]
        },
        {
          "output_type": "stream",
          "name": "stderr",
          "text": [
            "100%|██████████| 625/625 [00:01<00:00, 477.88it/s]\n"
          ]
        },
        {
          "output_type": "stream",
          "name": "stdout",
          "text": [
            "Epoch 17/25\n"
          ]
        },
        {
          "output_type": "stream",
          "name": "stderr",
          "text": [
            "100%|██████████| 625/625 [00:01<00:00, 482.10it/s]\n"
          ]
        },
        {
          "output_type": "stream",
          "name": "stdout",
          "text": [
            "Epoch 18/25\n"
          ]
        },
        {
          "output_type": "stream",
          "name": "stderr",
          "text": [
            "100%|██████████| 625/625 [00:01<00:00, 484.06it/s]\n"
          ]
        },
        {
          "output_type": "stream",
          "name": "stdout",
          "text": [
            "Epoch 19/25\n"
          ]
        },
        {
          "output_type": "stream",
          "name": "stderr",
          "text": [
            "100%|██████████| 625/625 [00:01<00:00, 474.73it/s]\n"
          ]
        },
        {
          "output_type": "stream",
          "name": "stdout",
          "text": [
            "Epoch 20/25\n"
          ]
        },
        {
          "output_type": "stream",
          "name": "stderr",
          "text": [
            "100%|██████████| 625/625 [00:01<00:00, 410.49it/s]\n"
          ]
        },
        {
          "output_type": "stream",
          "name": "stdout",
          "text": [
            "Epoch 21/25\n"
          ]
        },
        {
          "output_type": "stream",
          "name": "stderr",
          "text": [
            "100%|██████████| 625/625 [00:01<00:00, 393.17it/s]\n"
          ]
        },
        {
          "output_type": "stream",
          "name": "stdout",
          "text": [
            "Epoch 22/25\n"
          ]
        },
        {
          "output_type": "stream",
          "name": "stderr",
          "text": [
            "100%|██████████| 625/625 [00:01<00:00, 415.78it/s]\n"
          ]
        },
        {
          "output_type": "stream",
          "name": "stdout",
          "text": [
            "Epoch 23/25\n"
          ]
        },
        {
          "output_type": "stream",
          "name": "stderr",
          "text": [
            "100%|██████████| 625/625 [00:01<00:00, 483.50it/s]\n"
          ]
        },
        {
          "output_type": "stream",
          "name": "stdout",
          "text": [
            "Epoch 24/25\n"
          ]
        },
        {
          "output_type": "stream",
          "name": "stderr",
          "text": [
            "100%|██████████| 625/625 [00:01<00:00, 493.94it/s]\n"
          ]
        },
        {
          "output_type": "stream",
          "name": "stdout",
          "text": [
            "Epoch 25/25\n"
          ]
        },
        {
          "output_type": "stream",
          "name": "stderr",
          "text": [
            "100%|██████████| 625/625 [00:01<00:00, 485.78it/s]\n"
          ]
        },
        {
          "output_type": "display_data",
          "data": {
            "text/plain": [
              "<Figure size 800x400 with 2 Axes>"
            ],
            "image/png": "[encoded data removed]"
          },
          "metadata": {}
        }
      ],
      "source": [
        "# Training\n",
        "lenet = LeNet5(10)\n",
        "lenet = lenet.to(device)\n",
        "loss = nn.MSELoss()\n",
        "optimizer = torch.optim.SGD(lenet.parameters(), lr=1e-3)\n",
        "epochs = 25\n",
        "batch_size = 16\n",
        "history = {\n",
        "    \"loss\": [],\n",
        "    \"val_loss\": [],\n",
        "    \"accuracy\": [],\n",
        "    \"val_accuracy\": [],\n",
        "}\n",
        "\n",
        "for epoch in range(epochs):\n",
        "    print(f\"Epoch {epoch + 1}/{epochs}\")\n",
        "    for i in tqdm(range(0, Xtr.size(0), batch_size)):\n",
        "        x_batch = Xtr[i : i + batch_size]\n",
        "        y_batch = Ytr[i : i + batch_size]\n",
        "        y_hat = lenet.forward(x_batch)\n",
        "        loss_val = loss(y_hat, y_batch)\n",
        "        optimizer.zero_grad()\n",
        "        loss_val.backward()\n",
        "        optimizer.step()\n",
        "\n",
        "    y_hat = lenet.forward(Xtr)\n",
        "    y_hat_val = lenet.forward(Xte)\n",
        "    history[\"loss\"].append(loss(y_hat, Ytr).item())\n",
        "    history[\"val_loss\"].append(loss(y_hat_val, Yte).item())\n",
        "    history[\"accuracy\"].append(\n",
        "        torch.sum(Ytr == (y_hat > 0.5)).item() / Ytr.size(0)\n",
        "    )\n",
        "    history[\"val_accuracy\"].append(\n",
        "        torch.sum(Yte == (y_hat_val > 0.5)).item() / Yte.size(0)\n",
        "    )\n",
        "\n",
        "# Update model metrics\n",
        "model_metrics[\"LeNet5\"] = {\n",
        "    \"loss\": min(history[\"val_loss\"]),\n",
        "    \"accuracy\": max(history[\"val_accuracy\"]),\n",
        "}\n",
        "\n",
        "# Plotting\n",
        "plot_history(history, accu=True)"
      ]
    },
    {
      "cell_type": "markdown",
      "metadata": {
        "id": "Wkrc0uqB5zEe"
      },
      "source": [
        "## **Comparison**"
      ]
    },
    {
      "cell_type": "code",
      "execution_count": 57,
      "metadata": {
        "id": "IrG9uPrH5zEf",
        "outputId": "21124329-6e04-4e2e-c8d6-54c5c6ea7fc0",
        "colab": {
          "base_uri": "https://localhost:8080/"
        }
      },
      "outputs": [
        {
          "output_type": "stream",
          "name": "stdout",
          "text": [
            "                loss  accuracy\n",
            "NN-Scratch  0.122535    8.5107\n",
            "MLP-3       0.089255    9.0000\n",
            "MLP-4       0.088614    9.0000\n",
            "LeNet5      0.052066    9.2861\n",
            "Best Model: LeNet5\n"
          ]
        }
      ],
      "source": [
        "import pandas as pd\n",
        "\n",
        "model_metrics[\"NN-Scratch\"][\"accuracy\"] = model_metrics[\"NN-Scratch\"][\"accuracy\"] * 10\n",
        "model_metrics = pd.DataFrame(model_metrics).T\n",
        "print(model_metrics)\n",
        "\n",
        "# Best Model\n",
        "best_model = model_metrics[\n",
        "    model_metrics[\"accuracy\"] == model_metrics[\"accuracy\"].max()\n",
        "].index[0]\n",
        "print(f\"Best Model: {best_model}\")"
      ]
    },
    {
      "cell_type": "markdown",
      "source": [
        "LeNet is the best architecture, in this run, DBN in MLP4 imporved validation loss. LeNet5's loss was way better than any of the other models."
      ],
      "metadata": {
        "id": "ecMZ1rdy7AuI"
      }
    },
    {
      "cell_type": "markdown",
      "metadata": {
        "id": "OH4lm55-LvED"
      },
      "source": [
        "<!-- Implement a 3 layer MLP using PyTorch use sigmoid func;on as\n",
        "ac;va;on in all layers and ini;alize the first 2-layers with pretrained\n",
        "weights as per the deep belief network using autoencoders then fine\n",
        "tune it using MSE and SGD with autograd. Use appropriate learning\n",
        "rate or a momentum on weights. Compare the results of the III and IV\n",
        "for training vs valida;on losses and accuracies. Plot the train and\n",
        "valida;on curves in a single figure. -->"
      ]
    }
  ],
  "metadata": {
    "accelerator": "GPU",
    "colab": {
      "gpuType": "T4",
      "provenance": []
    },
    "kernelspec": {
      "display_name": "Python 3",
      "name": "python3"
    },
    "language_info": {
      "codemirror_mode": {
        "name": "ipython",
        "version": 3
      },
      "file_extension": ".py",
      "mimetype": "text/x-python",
      "name": "python",
      "nbconvert_exporter": "python",
      "pygments_lexer": "ipython3",
      "version": "3.11.3"
    }
  },
  "nbformat": 4,
  "nbformat_minor": 0
}